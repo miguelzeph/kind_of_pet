{
 "cells": [
  {
   "cell_type": "markdown",
   "metadata": {},
   "source": [
    "# Web Scraping\n",
    "\n",
    "Aqui iremos fazer os downloads das fotos dos animais para a pasta train."
   ]
  },
  {
   "cell_type": "code",
   "execution_count": 29,
   "metadata": {
    "ExecuteTime": {
     "end_time": "2021-05-02T18:42:43.634113Z",
     "start_time": "2021-05-02T18:42:43.017905Z"
    }
   },
   "outputs": [],
   "source": [
    "# Biblioteca de Seleção de interfaces\n",
    "from selenium import webdriver\n",
    "from selenium.webdriver.common.by import By\n",
    "from selenium.webdriver.common.keys import Keys\n",
    "\n",
    "# Biblioteca de pegar informações da página\n",
    "from bs4 import BeautifulSoup"
   ]
  },
  {
   "cell_type": "code",
   "execution_count": 30,
   "metadata": {
    "ExecuteTime": {
     "end_time": "2021-05-02T18:50:33.009373Z",
     "start_time": "2021-05-02T18:50:32.881099Z"
    }
   },
   "outputs": [],
   "source": [
    "driver = webdriver.Chrome('./driver_Chromium90/chromedriver')"
   ]
  },
  {
   "cell_type": "code",
   "execution_count": 16,
   "metadata": {
    "ExecuteTime": {
     "end_time": "2021-05-02T18:34:23.554515Z",
     "start_time": "2021-05-02T18:34:22.716281Z"
    }
   },
   "outputs": [],
   "source": [
    "# Abrir a página do Python Club\n",
    "driver.get('http://google.com.br')"
   ]
  },
  {
   "cell_type": "code",
   "execution_count": 17,
   "metadata": {
    "ExecuteTime": {
     "end_time": "2021-05-02T18:35:00.134642Z",
     "start_time": "2021-05-02T18:35:00.064795Z"
    }
   },
   "outputs": [],
   "source": [
    "driver.find_element_by_id('zV9nZe').click()"
   ]
  },
  {
   "cell_type": "code",
   "execution_count": 23,
   "metadata": {
    "ExecuteTime": {
     "end_time": "2021-05-02T18:37:57.554960Z",
     "start_time": "2021-05-02T18:37:57.530341Z"
    }
   },
   "outputs": [],
   "source": [
    "barra = driver.find_element_by_name('q') # ou pelo By..."
   ]
  },
  {
   "cell_type": "code",
   "execution_count": 24,
   "metadata": {
    "ExecuteTime": {
     "end_time": "2021-05-02T18:37:59.961208Z",
     "start_time": "2021-05-02T18:37:59.859160Z"
    }
   },
   "outputs": [],
   "source": [
    "barra.send_keys(\"birds\")"
   ]
  },
  {
   "cell_type": "code",
   "execution_count": 25,
   "metadata": {
    "ExecuteTime": {
     "end_time": "2021-05-02T18:38:06.951512Z",
     "start_time": "2021-05-02T18:38:05.526090Z"
    }
   },
   "outputs": [],
   "source": [
    "barra.send_keys(Keys.ENTER)"
   ]
  },
  {
   "cell_type": "code",
   "execution_count": 27,
   "metadata": {
    "ExecuteTime": {
     "end_time": "2021-05-02T18:38:21.786080Z",
     "start_time": "2021-05-02T18:38:21.725201Z"
    }
   },
   "outputs": [],
   "source": [
    "driver.find_element_by_class_name('hide-focus-ring').click()"
   ]
  },
  {
   "cell_type": "code",
   "execution_count": 48,
   "metadata": {
    "ExecuteTime": {
     "end_time": "2021-05-02T19:10:19.097787Z",
     "start_time": "2021-05-02T19:10:19.088623Z"
    }
   },
   "outputs": [
    {
     "data": {
      "text/plain": [
       "'https://www.google.com.br/search?q=birds&tbm=isch&ved=2ahUKEwioxJb60avwAhULTRoKHSHCAQUQ2-cCegQIABAA&oq=birds&gs_lcp=CgNpbWcQAzICCAAyAggAMgIIADICCAAyAggAMgIIADICCAAyAggAMgIIADICCAA6BggAEAUQHjoECAAQE1Dg3gVYwPgFYOOKBmgCcAB4AYABRYgB-wKSAQE3mAEAoAEBqgELZ3dzLXdpei1pbWfAAQE&sclient=img&ei=KPGOYKiQFIuaaaGEhyg&bih=595&biw=748'"
      ]
     },
     "execution_count": 48,
     "metadata": {},
     "output_type": "execute_result"
    }
   ],
   "source": [
    "# Pegar url atual\n",
    "#driver.current_url"
   ]
  },
  {
   "cell_type": "code",
   "execution_count": null,
   "metadata": {},
   "outputs": [],
   "source": [
    "# Chegamos na Alas das Imagens"
   ]
  },
  {
   "cell_type": "code",
   "execution_count": 49,
   "metadata": {
    "ExecuteTime": {
     "end_time": "2021-05-02T19:12:57.659126Z",
     "start_time": "2021-05-02T19:12:57.655392Z"
    }
   },
   "outputs": [],
   "source": [
    "import urllib"
   ]
  },
  {
   "cell_type": "code",
   "execution_count": 69,
   "metadata": {
    "ExecuteTime": {
     "end_time": "2021-05-02T19:25:35.251837Z",
     "start_time": "2021-05-02T19:25:35.238612Z"
    }
   },
   "outputs": [],
   "source": [
    "#pagina = urllib.request.urlopen(driver.current_url) # A segurança do Google pega...\n",
    "pagina = urllib.request.Request(driver.current_url) # Passou\n",
    "#webpage = urllib.request.urlopen(pagina).read() # buga"
   ]
  },
  {
   "cell_type": "code",
   "execution_count": 72,
   "metadata": {
    "ExecuteTime": {
     "end_time": "2021-05-02T19:29:57.418845Z",
     "start_time": "2021-05-02T19:29:46.444319Z"
    }
   },
   "outputs": [
    {
     "name": "stdout",
     "output_type": "stream",
     "text": [
      "What are you looking for? cat\n",
      "How many images do you want? 2\n",
      "Start searching...\n",
      "https://www.google.com/search?site=&tbm=isch&source=hp&biw=1873&bih=990&q=cat\n",
      "found 0 images\n",
      "Start downloading...\n",
      "Done\n"
     ]
    }
   ],
   "source": [
    "import os\n",
    "import json \n",
    "import requests # to sent GET requests\n",
    "from bs4 import BeautifulSoup # to parse HTML\n",
    "\n",
    "# user can input a topic and a number\n",
    "# download first n images from google image search\n",
    "\n",
    "GOOGLE_IMAGE = \\\n",
    "    'https://www.google.com/search?site=&tbm=isch&source=hp&biw=1873&bih=990&'\n",
    "\n",
    "# The User-Agent request header contains a characteristic string \n",
    "# that allows the network protocol peers to identify the application type, \n",
    "# operating system, and software version of the requesting software user agent.\n",
    "# needed for google search\n",
    "usr_agent = {\n",
    "    'User-Agent': 'Mozilla/5.0 (X11; Linux x86_64) AppleWebKit/537.11 (KHTML, like Gecko) Chrome/23.0.1271.64 Safari/537.11',\n",
    "    'Accept': 'text/html,application/xhtml+xml,application/xml;q=0.9,*/*;q=0.8',\n",
    "    'Accept-Charset': 'ISO-8859-1,utf-8;q=0.7,*;q=0.3',\n",
    "    'Accept-Encoding': 'none',\n",
    "    'Accept-Language': 'en-US,en;q=0.8',\n",
    "    'Connection': 'keep-alive',\n",
    "}\n",
    "\n",
    "SAVE_FOLDER = './images'\n",
    "\n",
    "def main():\n",
    "    if not os.path.exists(SAVE_FOLDER):\n",
    "        os.mkdir(SAVE_FOLDER)\n",
    "    download_images()\n",
    "    \n",
    "def download_images():\n",
    "    # ask for user input\n",
    "    data = input('What are you looking for? ')\n",
    "    n_images = int(input('How many images do you want? '))\n",
    "\n",
    "    print('Start searching...')\n",
    "    \n",
    "    # get url query string\n",
    "    searchurl = GOOGLE_IMAGE + 'q=' + data\n",
    "    print(searchurl)\n",
    "\n",
    "    # request url, without usr_agent the permission gets denied\n",
    "    response = requests.get(searchurl, headers=usr_agent)\n",
    "    html = response.text\n",
    "\n",
    "    # find all divs where class='rg_meta'\n",
    "    soup = BeautifulSoup(html, 'html.parser')\n",
    "    results = soup.findAll('div', {'class': 'rg_i Q4LuWd'}, limit=n_images)\n",
    "    \n",
    "    # extract the link from the div tag\n",
    "    imagelinks= []\n",
    "    for re in results:\n",
    "        text = re.text # this is a valid json string\n",
    "        text_dict= json.loads(text) # deserialize json to a Python dict\n",
    "        link = text_dict['ou']\n",
    "        # image_type = text_dict['ity']\n",
    "        imagelinks.append(link)\n",
    "\n",
    "    print(f'found {len(imagelinks)} images')\n",
    "    print('Start downloading...')\n",
    "\n",
    "    for i, imagelink in enumerate(imagelinks):\n",
    "        # open image link and save as file\n",
    "        response = requests.get(imagelink)\n",
    "        \n",
    "        imagename = SAVE_FOLDER + '/' + data + str(i+1) + '.jpg'\n",
    "        with open(imagename, 'wb') as file:\n",
    "            file.write(response.content)\n",
    "\n",
    "    print('Done')\n",
    "\n",
    "\n",
    "if __name__ == '__main__':\n",
    "    main()"
   ]
  }
 ],
 "metadata": {
  "kernelspec": {
   "display_name": "Python 3",
   "language": "python",
   "name": "python3"
  },
  "language_info": {
   "codemirror_mode": {
    "name": "ipython",
    "version": 3
   },
   "file_extension": ".py",
   "mimetype": "text/x-python",
   "name": "python",
   "nbconvert_exporter": "python",
   "pygments_lexer": "ipython3",
   "version": "3.6.9"
  }
 },
 "nbformat": 4,
 "nbformat_minor": 2
}
