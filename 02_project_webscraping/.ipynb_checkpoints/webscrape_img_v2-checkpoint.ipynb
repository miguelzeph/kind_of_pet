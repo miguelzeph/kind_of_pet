{
 "cells": [
  {
   "cell_type": "markdown",
   "metadata": {},
   "source": [
    "# Web Scraping \n",
    "\n",
    "Irei usar a bs4 en vez da selenium.\n",
    "\n",
    "fonte com adpatações: https://www.youtube.com/watch?v=t2k5Lsbpj8Y&t=673s\n",
    "- google sempre altera o nome das classes\n",
    "- User-Agent, tive que procurar o meu do chrome\n",
    "- tive que usar o Selenium, não sei o porquê o path do src não vinha tudo para mim usando request.get()"
   ]
  },
  {
   "cell_type": "code",
   "execution_count": 33,
   "metadata": {
    "ExecuteTime": {
     "end_time": "2021-05-10T18:13:11.727787Z",
     "start_time": "2021-05-10T18:12:51.694429Z"
    }
   },
   "outputs": [
    {
     "name": "stdout",
     "output_type": "stream",
     "text": [
      "What are you looking for? birds\n",
      "How many images do you want? 10\n",
      "Start searching...\n",
      "\n",
      "\n",
      "found 10 images\n",
      "Start downloading...\n",
      "Done\n"
     ]
    }
   ],
   "source": [
    "import os\n",
    "\n",
    "from selenium import webdriver # Get the page_source\n",
    "\n",
    "from bs4 import BeautifulSoup # to parse HTML\n",
    "\n",
    "# para fazer o download\n",
    "import urllib.request\n",
    "\n",
    "\n",
    "GOOGLE_IMAGE = \\\n",
    "    'https://www.google.com/search?site=&tbm=isch&source=hp&biw=1873&bih=990&'\n",
    "\n",
    "# The User-Agent request header contains a characteristic string \n",
    "# that allows the network protocol peers to identify the application type, \n",
    "# operating system, and software version of the requesting software user agent.\n",
    "# needed for google search\n",
    "usr_agent = {\n",
    "    'User-Agent': 'Mozilla/5.0 (X11; Linux x86_64) AppleWebKit/537.36 (KHTML, like Gecko) Chrome/51.0.2704.103 Safari/537.36',\n",
    "    'Accept': 'text/html,application/xhtml+xml,application/xml;q=0.9,*/*;q=0.8',\n",
    "    'Accept-Charset': 'ISO-8859-1,utf-8;q=0.7,*;q=0.3',\n",
    "    'Accept-Encoding': 'none',\n",
    "    'Accept-Language': 'en-US,en;q=0.8',\n",
    "    'Connection': 'keep-alive',\n",
    "}\n",
    "\n",
    "\n",
    "SAVE_FOLDER = 'images'\n",
    "\n",
    "def main():\n",
    "    if not os.path.exists(SAVE_FOLDER):\n",
    "        os.mkdir(SAVE_FOLDER)\n",
    "    download_images()\n",
    "    \n",
    "def download_images():\n",
    "    \n",
    "    browser = webdriver.Chrome('./driver_Chromium90/chromedriver') \n",
    "    \n",
    "    # Os inputs\n",
    "    data = input('What are you looking for? ')\n",
    "    n_images = int(input('How many images do you want? '))\n",
    "\n",
    "    print('Start searching...')\n",
    "    print('\\n')\n",
    "\n",
    "    # get url query string\n",
    "    searchurl = GOOGLE_IMAGE + 'q=' + data\n",
    "    \n",
    "    browser.get(searchurl)\n",
    "    soup = BeautifulSoup(browser.page_source) # Pulo do gato\n",
    "\n",
    "    results = soup.findAll('img', {'class': 'rg_i Q4LuWd'}, limit=n_images)\n",
    "\n",
    "\n",
    "    imagelinks= []\n",
    "    #All the Src\n",
    "    for result in results:\n",
    "        imagelinks.append(result['src'])\n",
    "\n",
    "\n",
    "    print(f'found {len(imagelinks)} images')\n",
    "    print('Start downloading...')\n",
    "\n",
    "\n",
    "    for i, imagelink in enumerate(imagelinks):\n",
    "\n",
    "        imagelocal = f'./{SAVE_FOLDER}/{data}.{i}.jpg'\n",
    "        urllib.request.urlretrieve( imagelink , imagelocal)\n",
    "\n",
    "    print('Done')\n",
    "\n",
    "\n",
    "if __name__ == '__main__':\n",
    "    main()\n",
    "\n"
   ]
  }
 ],
 "metadata": {
  "kernelspec": {
   "display_name": "Python 3",
   "language": "python",
   "name": "python3"
  },
  "language_info": {
   "codemirror_mode": {
    "name": "ipython",
    "version": 3
   },
   "file_extension": ".py",
   "mimetype": "text/x-python",
   "name": "python",
   "nbconvert_exporter": "python",
   "pygments_lexer": "ipython3",
   "version": "3.6.9"
  }
 },
 "nbformat": 4,
 "nbformat_minor": 2
}
