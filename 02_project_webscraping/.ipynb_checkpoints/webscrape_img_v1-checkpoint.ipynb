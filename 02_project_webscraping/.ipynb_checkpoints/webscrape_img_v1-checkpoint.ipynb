{
 "cells": [
  {
   "cell_type": "markdown",
   "metadata": {},
   "source": [
    "# Web Scraping \n",
    "\n",
    "Aqui eu mostro como usar um pouco da biblioteca Selenium\n",
    "\n",
    "<span style='color:red'> Deu errado... existe um jeito melhor\n"
   ]
  },
  {
   "cell_type": "code",
   "execution_count": 1,
   "metadata": {
    "ExecuteTime": {
     "end_time": "2021-05-10T17:16:47.715558Z",
     "start_time": "2021-05-10T17:16:47.199759Z"
    }
   },
   "outputs": [],
   "source": [
    "# Biblioteca de Seleção de interfaces\n",
    "from selenium import webdriver\n",
    "from selenium.webdriver.common.by import By\n",
    "from selenium.webdriver.common.keys import Keys"
   ]
  },
  {
   "cell_type": "code",
   "execution_count": 2,
   "metadata": {
    "ExecuteTime": {
     "end_time": "2021-05-10T17:16:49.482930Z",
     "start_time": "2021-05-10T17:16:47.717849Z"
    }
   },
   "outputs": [],
   "source": [
    "driver = webdriver.Chrome('./driver_Chromium90/chromedriver')"
   ]
  },
  {
   "cell_type": "code",
   "execution_count": 3,
   "metadata": {
    "ExecuteTime": {
     "end_time": "2021-05-10T17:16:50.990060Z",
     "start_time": "2021-05-10T17:16:49.485699Z"
    }
   },
   "outputs": [],
   "source": [
    "# Abrir a página do Python Club\n",
    "driver.get('http://google.com.br')"
   ]
  },
  {
   "cell_type": "code",
   "execution_count": 4,
   "metadata": {
    "ExecuteTime": {
     "end_time": "2021-05-10T17:16:51.080293Z",
     "start_time": "2021-05-10T17:16:50.993351Z"
    }
   },
   "outputs": [],
   "source": [
    "driver.find_element_by_id('zV9nZe').click()"
   ]
  },
  {
   "cell_type": "code",
   "execution_count": 5,
   "metadata": {
    "ExecuteTime": {
     "end_time": "2021-05-10T17:16:51.205985Z",
     "start_time": "2021-05-10T17:16:51.084474Z"
    }
   },
   "outputs": [],
   "source": [
    "barra = driver.find_element_by_name('q') # ou pelo By..."
   ]
  },
  {
   "cell_type": "code",
   "execution_count": 6,
   "metadata": {
    "ExecuteTime": {
     "end_time": "2021-05-10T17:16:51.534467Z",
     "start_time": "2021-05-10T17:16:51.214320Z"
    }
   },
   "outputs": [],
   "source": [
    "barra.send_keys(\"birds\")"
   ]
  },
  {
   "cell_type": "code",
   "execution_count": 7,
   "metadata": {
    "ExecuteTime": {
     "end_time": "2021-05-10T17:16:53.503770Z",
     "start_time": "2021-05-10T17:16:51.538002Z"
    }
   },
   "outputs": [],
   "source": [
    "barra.send_keys(Keys.ENTER)"
   ]
  },
  {
   "cell_type": "code",
   "execution_count": 8,
   "metadata": {
    "ExecuteTime": {
     "end_time": "2021-05-10T17:16:55.223229Z",
     "start_time": "2021-05-10T17:16:53.507651Z"
    }
   },
   "outputs": [],
   "source": [
    "driver.find_element_by_class_name('hide-focus-ring').click()"
   ]
  },
  {
   "cell_type": "code",
   "execution_count": 9,
   "metadata": {
    "ExecuteTime": {
     "end_time": "2021-05-10T17:16:55.241246Z",
     "start_time": "2021-05-10T17:16:55.231965Z"
    }
   },
   "outputs": [],
   "source": [
    "# Pegar url atual\n",
    "#driver.current_url"
   ]
  },
  {
   "cell_type": "code",
   "execution_count": 10,
   "metadata": {
    "ExecuteTime": {
     "end_time": "2021-05-10T17:16:55.354439Z",
     "start_time": "2021-05-10T17:16:55.250583Z"
    },
    "code_folding": []
   },
   "outputs": [],
   "source": [
    "#driver.page_source"
   ]
  },
  {
   "cell_type": "code",
   "execution_count": 11,
   "metadata": {
    "ExecuteTime": {
     "end_time": "2021-05-10T17:16:55.468844Z",
     "start_time": "2021-05-10T17:16:55.358361Z"
    }
   },
   "outputs": [],
   "source": [
    "# Chegamos na Alas das Imagens"
   ]
  },
  {
   "cell_type": "code",
   "execution_count": 12,
   "metadata": {
    "ExecuteTime": {
     "end_time": "2021-05-10T17:16:55.598212Z",
     "start_time": "2021-05-10T17:16:55.470895Z"
    }
   },
   "outputs": [],
   "source": [
    "import urllib"
   ]
  },
  {
   "cell_type": "code",
   "execution_count": 13,
   "metadata": {
    "ExecuteTime": {
     "end_time": "2021-05-10T17:16:55.717515Z",
     "start_time": "2021-05-10T17:16:55.603032Z"
    }
   },
   "outputs": [],
   "source": [
    "#pagina = urllib.request.urlopen(driver.current_url) # A segurança do Google pega...\n",
    "pagina = urllib.request.Request(driver.current_url) # Passou\n",
    "#webpage = urllib.request.urlopen(pagina).read() # buga"
   ]
  },
  {
   "cell_type": "code",
   "execution_count": null,
   "metadata": {},
   "outputs": [],
   "source": []
  },
  {
   "cell_type": "code",
   "execution_count": null,
   "metadata": {},
   "outputs": [],
   "source": []
  },
  {
   "cell_type": "code",
   "execution_count": null,
   "metadata": {},
   "outputs": [],
   "source": []
  }
 ],
 "metadata": {
  "kernelspec": {
   "display_name": "Python 3",
   "language": "python",
   "name": "python3"
  },
  "language_info": {
   "codemirror_mode": {
    "name": "ipython",
    "version": 3
   },
   "file_extension": ".py",
   "mimetype": "text/x-python",
   "name": "python",
   "nbconvert_exporter": "python",
   "pygments_lexer": "ipython3",
   "version": "3.6.9"
  }
 },
 "nbformat": 4,
 "nbformat_minor": 2
}
